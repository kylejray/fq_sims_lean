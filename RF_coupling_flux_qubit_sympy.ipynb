{
 "cells": [
  {
   "cell_type": "code",
   "execution_count": null,
   "metadata": {},
   "outputs": [],
   "source": [
    "from sympy import *\n",
    "from sympy import latex\n",
    "from sympy.plotting import plot3d\n",
    "from sympy.plotting.plot import plot_contour\n",
    "from scipy.integrate import quad, nquad, dblquad\n",
    "from sympy import init_session\n",
    "%matplotlib inline\n",
    "init_printing(use_unicode=True)"
   ]
  },
  {
   "cell_type": "code",
   "execution_count": null,
   "metadata": {},
   "outputs": [],
   "source": [
    "x, y, z, zx, zxp, pxdc, pxdcp, beta, dbeta, mu, gamma = symbols('x y z \\zeta_x \\zeta\\'_x \\phi_{xdc} \\phi_{xdc}\\' B dB \\mu \\gamma ')\n",
    "eta, etap, pdc, pdcp, z, zp = var(' \\eta \\eta\\' \\phi_{dc} \\phi_{dc}\\' \\zeta \\zeta\\' ', real=True)\n",
    "\n",
    "vphi = (-z+zp)/2\n",
    "vphip = (z+zp)/2\n",
    "#dimensionless potential\n",
    "U_L = 1/(2*(1-mu)) * (z-zx)**2 + 1/(2*(1+mu)) * (zp-zxp)**2 + gamma* ((pdc-pxdc)**2 + (pdcp-pxdcp)**2)\n",
    "\n",
    "F_U = 2 * ( -beta * cos(x) * cos(y/2) + dbeta * sin(x) * sin(y/2))\n",
    "\n",
    "U = U_L + F_U.subs([[x,vphi],[y,pdc]]) + F_U.subs([[x,vphip],[y,pdcp]])\n",
    "\n",
    "print('U=')\n",
    "U\n"
   ]
  },
  {
   "cell_type": "markdown",
   "metadata": {},
   "source": [
    "## Execute the two cells above and then the one below for an interactive plot of the potential"
   ]
  },
  {
   "cell_type": "code",
   "execution_count": null,
   "metadata": {},
   "outputs": [],
   "source": [
    "%matplotlib inline\n",
    "import matplotlib.pyplot as plt\n",
    "import numpy as np\n",
    "from ipywidgets import interactive\n",
    "from mpl_toolkits.mplot3d import Axes3D\n",
    "\n",
    "# use the function keyword arguments below to set default values\n",
    "def f(zxv=0, zxpv=0, pdcv=0, pdcpv=0, pxdcv=0, pxdcpv=0, mv=.5, gv=24, bv=12, dbv=0):\n",
    "    params = [[zx, zxv], [zxp, zxpv], [pdc, pdcv], [pdcp, pdcpv], [pxdc,pxdcv], [pxdcp, pxdcpv], [mu,mv], [gamma,gv], [beta,bv], [dbeta,dbv]]\n",
    "    \n",
    "    U_sub = U.subs(params).simplify()\n",
    "    \n",
    "    #SET THE PLOT WINDOW HERE ###\n",
    "    xmin, xmax, ymin, ymax = -6, 6, -6, 6\n",
    "    resolution = 100\n",
    "    #SET THE PLOT WINDOW HERE ###\n",
    "    \n",
    "    X,Y = np.meshgrid( np.linspace(xmin, xmax, resolution), np.linspace(ymin, ymax, resolution))\n",
    "    ft = lambdify((z,zp), U_sub, 'numpy')\n",
    "    U_num = ft(X,Y)\n",
    "    \n",
    "    fig = plt.figure(figsize=(10,10))\n",
    "    ax2 = fig.add_subplot(222, projection=\"3d\")\n",
    "    ax2.plot_wireframe(X,Y,U_num)\n",
    "    ax3 = fig.add_subplot(221)\n",
    "    ax3.contourf(X,Y,U_num)\n",
    "    for item in [ax2, ax3]:\n",
    "        item.set_xlabel('$\\zeta$')\n",
    "        item.set_ylabel('$\\zeta\\'$')\n",
    "\n",
    "    \n",
    "    #print('left min:',np.min(U_num[:,:int(resolution/2)]),'right_min:',np.min(U_num[:,int(resolution/2):]))\n",
    "\n",
    "#SET PARAMETER RANGES HERE ### \n",
    "xrng = (-6.5, 6.5, .01)\n",
    "mrng = (0,2,.01)\n",
    "brng = (0,30,.1)\n",
    "#SET PARAMETER RANGES HERE ### \n",
    "\n",
    "\n",
    "interactive_plot = interactive(f, zxv=xrng, zxpv=xrng, pdcv=xrng, pdcpv=xrng, pxdcv=xrng, pxdcpv=xrng, mv=mrng, gv=brng, bv=brng, dbv=brng)\n",
    "#output = interactive_plot.children[-1]\n",
    "#output.layout.height = '900px'\n",
    "interactive_plot"
   ]
  },
  {
   "cell_type": "markdown",
   "metadata": {},
   "source": [
    "# Below is a model for how to plot the force vector field, saved for future use possibly. Not currently functional at the same time as the one above due to reused variable definitions"
   ]
  },
  {
   "cell_type": "code",
   "execution_count": null,
   "metadata": {},
   "outputs": [],
   "source": [
    "\n",
    "\n",
    "x, y, z, etax, etaxp, pdcx, pdcxp, I_p, I_m, mu, L, phi_0, gamma = symbols('x y z \\eta_x \\eta_x\\' \\phi_x \\phi_x\\' I_+ I_- \\mu L \\Phi_0 \\gamma ')\n",
    "eta, etap, pdc, pdcp = var(' \\eta \\eta\\' \\phi_{dc} \\phi_{dc}\\' ', real=True)\n",
    "\n",
    "#scaling = 1\n",
    "scaling = 2 * pi / phi_0\n",
    "zeta = eta * scaling\n",
    "zetap = etap * scaling\n",
    "vpdc = pdc * scaling\n",
    "vpdcp = pdcp * scaling\n",
    "\n",
    "phi = (-zeta+zetap)/2\n",
    "phip = (zeta+zetap)/2\n",
    "\n",
    "F = I_p * sin(x) * cos(y/2) + I_m * cos(x) * sin(y/2)\n",
    "\n",
    "F_eta = 1/(L*(1-mu))*(etax-eta) + F.subs([[x,phi], [y,vpdc]]) - F.subs([[x,phip], [y,vpdcp]])\n",
    "F_etap = 1/(L*(1+mu)) *(etaxp-etap) -F.subs([[x,phi], [y,vpdc]]) - F.subs([[x,phip], [y,vpdcp]])\n",
    "F_pdc = 2*gamma/L * (pdcx-pdc) - F.subs([[x,vpdc/2],[y,2*phi]])\n",
    "F_pdcp = 2*gamma/L *(pdcp- pdcxp) -  F.subs([[x,vpdcp/2],[y,2*phip]])"
   ]
  },
  {
   "cell_type": "code",
   "execution_count": null,
   "metadata": {},
   "outputs": [],
   "source": [
    "#vector plot of the forces\n",
    "%matplotlib inline\n",
    "import matplotlib.pyplot as plt\n",
    "import numpy as np\n",
    "from ipywidgets import interactive\n",
    "from mpl_toolkits.mplot3d import Axes3D\n",
    "\n",
    "# use the function keyword arguments below to set default values\n",
    "def f(etaxv=0, etaxpv=0, vpdcv=0, vpdcpv=0, Lv=1, Mv=.2, I_pv=1, I_mv=1):\n",
    "    params = [[etax,etaxv],[etaxp,etaxpv],[vpdc,vpdcv], [vpdcp,vpdcpv], [L,Lv], [mu,Mv], [I_p,I_pv], [I_m,I_mv]]\n",
    "    \n",
    "    F_eta_sub = F_eta.subs(params).simplify()\n",
    "    F_etap_sub = F_etap.subs(params).simplify()\n",
    "    \n",
    "    #SET THE PLOT WINDOW HERE ###\n",
    "    pmin, pmax, dcmin, dcmax = -30, 30, -30, 30\n",
    "    resolution = 20\n",
    "    #SET THE PLOT WINDOW HERE ###\n",
    "    \n",
    "    X,Y = np.meshgrid( np.linspace(pmin, pmax, resolution), np.linspace(dcmin, dcmax, resolution))\n",
    "    \n",
    "    f_e = lambdify((eta,etap), F_eta_sub, 'numpy')\n",
    "    f_ep = lambdify((eta,etap), F_etap_sub, 'numpy')\n",
    "    \n",
    "    F_eta_num = f_e(X,Y)\n",
    "    F_etap_num = f_ep(X,Y) \n",
    "    \n",
    "    fig = plt.figure(figsize=(10,10))\n",
    "    ax = fig.add_subplot(111)\n",
    "    C = np.hypot(F_eta_num, F_etap_num)\n",
    "    ax.quiver(X, Y, F_eta_num, F_etap_num, C)\n",
    "    \n",
    "    #print('left min:',np.min(U_num[:,:int(resolution/2)]),'right_min:',np.min(U_num[:,int(resolution/2):]))\n",
    "\n",
    "#SET PARAMETER RANGES HERE ### \n",
    "xrng = (-6.5, 6.5, .01)\n",
    "erng = (0.01,.5,.01)\n",
    "brng = (0,10,.01)\n",
    "Lrng = (.001,5)\n",
    "#SET PARAMETER RANGES HERE ### \n",
    "\n",
    "\n",
    "interactive_plot = interactive(f, etaxv=xrng, etaxpv=xrng, vpdcv=xrng, vpdcpv=xrng, Lv=Lrng, Mv=Lrng, I_1v=brng, I_2v=brng)\n",
    "#output = interactive_plot.children[-1]\n",
    "#output.layout.height = '900px'\n",
    "interactive_plot"
   ]
  },
  {
   "cell_type": "code",
   "execution_count": null,
   "metadata": {},
   "outputs": [],
   "source": []
  }
 ],
 "metadata": {
  "kernelspec": {
   "display_name": "Python 3",
   "language": "python",
   "name": "python3"
  },
  "language_info": {
   "codemirror_mode": {
    "name": "ipython",
    "version": 3
   },
   "file_extension": ".py",
   "mimetype": "text/x-python",
   "name": "python",
   "nbconvert_exporter": "python",
   "pygments_lexer": "ipython3",
   "version": "3.7.9"
  }
 },
 "nbformat": 4,
 "nbformat_minor": 4
}
