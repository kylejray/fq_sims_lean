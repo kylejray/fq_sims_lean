{
 "cells": [
  {
   "cell_type": "code",
   "execution_count": 1,
   "metadata": {},
   "outputs": [],
   "source": [
    "import sys\n",
    "import os\n",
    "\n",
    "sys.path.append('source/')\n",
    "sys.path.append('source/informational_states')\n"
   ]
  },
  {
   "cell_type": "code",
   "execution_count": 2,
   "metadata": {},
   "outputs": [],
   "source": [
    "import numpy as np \n",
    "import matplotlib.pyplot as plt\n",
    "plt.rcParams[\"animation.html\"] = \"jshtml\"\n",
    "from IPython.display import HTML\n",
    "import matplotlib.animation as animation\n",
    "\n",
    "%matplotlib inline"
   ]
  },
  {
   "cell_type": "code",
   "execution_count": null,
   "metadata": {},
   "outputs": [],
   "source": []
  },
  {
   "cell_type": "code",
   "execution_count": 3,
   "metadata": {},
   "outputs": [],
   "source": [
    "#greg tools\n",
    "from infoenginessims.api import *\n",
    "from infoenginessims.integrators import rkdeterm_eulerstoch\n",
    "from infoenginessims.dynamics import langevin_underdamped, langevin_overdamped\n",
    "from infoenginessims import simulation\n",
    "from infoenginessims.simprocedures import basic_simprocedures as sp\n",
    "from infoenginessims.simprocedures import running_measurements as rp\n",
    "from infoenginessims import analysis\n",
    "import infoenginessims.analysis.running_quantities\n",
    "import infoenginessims.analysis.hists_1D"
   ]
  },
  {
   "cell_type": "code",
   "execution_count": 4,
   "metadata": {},
   "outputs": [
    {
     "output_type": "error",
     "ename": "ModuleNotFoundError",
     "evalue": "No module named 'measure'",
     "traceback": [
      "\u001b[0;31m---------------------------------------------------------------------------\u001b[0m",
      "\u001b[0;31mModuleNotFoundError\u001b[0m                       Traceback (most recent call last)",
      "\u001b[0;32m<ipython-input-4-b71a28935c85>\u001b[0m in \u001b[0;36m<module>\u001b[0;34m\u001b[0m\n\u001b[1;32m      1\u001b[0m \u001b[0;31m#kyle tools\u001b[0m\u001b[0;34m\u001b[0m\u001b[0;34m\u001b[0m\u001b[0;34m\u001b[0m\u001b[0m\n\u001b[0;32m----> 2\u001b[0;31m \u001b[0;32mimport\u001b[0m \u001b[0mkyle_tools\u001b[0m \u001b[0;32mas\u001b[0m \u001b[0mkt\u001b[0m\u001b[0;34m\u001b[0m\u001b[0;34m\u001b[0m\u001b[0m\n\u001b[0m\u001b[1;32m      3\u001b[0m \u001b[0;32mfrom\u001b[0m \u001b[0mprotocol_designer\u001b[0m \u001b[0;32mimport\u001b[0m \u001b[0mpotentials\u001b[0m\u001b[0;34m,\u001b[0m \u001b[0mprotocol\u001b[0m\u001b[0;34m,\u001b[0m \u001b[0msystem\u001b[0m\u001b[0;34m\u001b[0m\u001b[0;34m\u001b[0m\u001b[0m\n\u001b[1;32m      4\u001b[0m \u001b[0;32mfrom\u001b[0m \u001b[0minformational_states\u001b[0m\u001b[0;34m.\u001b[0m\u001b[0mmeasure\u001b[0m \u001b[0;32mimport\u001b[0m \u001b[0mMeasurementDevice\u001b[0m\u001b[0;34m,\u001b[0m \u001b[0mMeasurement\u001b[0m\u001b[0;34m,\u001b[0m \u001b[0mTrajectoryEnsemble\u001b[0m\u001b[0;34m\u001b[0m\u001b[0;34m\u001b[0m\u001b[0m\n\u001b[1;32m      5\u001b[0m \u001b[0;34m\u001b[0m\u001b[0m\n",
      "\u001b[0;32m~/Dropbox/scott/caltech-all/roukes/alt-comp/kyle-sims/fq_sims_lean/source/kyle_tools.py\u001b[0m in \u001b[0;36m<module>\u001b[0;34m\u001b[0m\n\u001b[1;32m     14\u001b[0m \u001b[0msys\u001b[0m\u001b[0;34m.\u001b[0m\u001b[0mpath\u001b[0m\u001b[0;34m.\u001b[0m\u001b[0minsert\u001b[0m\u001b[0;34m(\u001b[0m\u001b[0;36m0\u001b[0m\u001b[0;34m,\u001b[0m \u001b[0mis_path\u001b[0m\u001b[0;34m)\u001b[0m\u001b[0;34m\u001b[0m\u001b[0;34m\u001b[0m\u001b[0m\n\u001b[1;32m     15\u001b[0m \u001b[0;34m\u001b[0m\u001b[0m\n\u001b[0;32m---> 16\u001b[0;31m \u001b[0;32mfrom\u001b[0m \u001b[0mmeasure\u001b[0m \u001b[0;32mimport\u001b[0m \u001b[0mMeasurementDevice\u001b[0m\u001b[0;34m,\u001b[0m \u001b[0mMeasurement\u001b[0m\u001b[0;34m\u001b[0m\u001b[0;34m\u001b[0m\u001b[0m\n\u001b[0m\u001b[1;32m     17\u001b[0m \u001b[0;34m\u001b[0m\u001b[0m\n\u001b[1;32m     18\u001b[0m \u001b[0;34m\u001b[0m\u001b[0m\n",
      "\u001b[0;31mModuleNotFoundError\u001b[0m: No module named 'measure'"
     ]
    }
   ],
   "source": [
    "#kyle tools\n",
    "import kyle_tools as kt\n",
    "from protocol_designer import potentials, protocol, system\n",
    "from measure import MeasurementDevice, Measurement, TrajectoryEnsemble\n",
    "\n"
   ]
  },
  {
   "cell_type": "code",
   "execution_count": null,
   "metadata": {},
   "outputs": [],
   "source": []
  },
  {
   "cell_type": "code",
   "execution_count": null,
   "metadata": {},
   "outputs": [],
   "source": [
    "\n",
    "#params 1:\n",
    "kT = 4.1*1.38E-23\n",
    "C = 400E-12\n",
    "R = 371\n",
    "L = 10E-10\n",
    "\n",
    "'''\n",
    "#params 2:\n",
    "kT = 6.9E-24\n",
    "C = 530E-15\n",
    "R = 2.1\n",
    "L = 140E-12\n",
    "'''\n",
    "\n",
    "#these are some relevant dimensionful scales: alpha are the natural units for the JJ fluxes and U_0 is the natural scale for the potential\n",
    "alpha = 2.07E-15 / (2*np.pi)\n",
    "U_0 = alpha**2 / L\n",
    "\n",
    "#these are important dimensionless quantities, given that m is measured in units of C, lambda in units of 1/R, temperature in units of U_0\n",
    "m_prime = np.array((2, 1/2))\n",
    "lambda_prime = np.array((2, 1/2))\n",
    "kT_prime = kT/U_0\n"
   ]
  },
  {
   "cell_type": "markdown",
   "metadata": {},
   "source": [
    "### First few cells are to set up the \"system\": the potential and the time dependent signal sent to its parameters"
   ]
  },
  {
   "cell_type": "code",
   "execution_count": null,
   "metadata": {},
   "outputs": [],
   "source": [
    "\n",
    "#some sample systems for the bit flip, defined in the fq_systems.py file. You can use that file as a model for making new protocols:\n",
    "\n",
    "from fq_systems import fq_pot, flip_on, flip_off, flip_prot \n",
    "\n",
    "#equilibrating\n",
    "eq_sys = system.System(fq_pot.trivial_protocol(), fq_pot)\n",
    "\n",
    "#starts in EQ, holds the flip potential indefinitely\n",
    "eternal_flip_sys = system.System(flip_on, fq_pot)\n",
    "\n",
    "#starts in flip potential and then relaxes to EQ\n",
    "diagnostic_flip_sys = system.System(flip_off, fq_pot)\n",
    "\n",
    "#full flip, start in EQ and then end in EQ again\n",
    "flip_sys = system.System(flip_prot, fq_pot)"
   ]
  },
  {
   "cell_type": "code",
   "execution_count": null,
   "metadata": {},
   "outputs": [],
   "source": [
    "#this cell defines what system you want to simulate and how many trials to run. generally you dont need alot of trials unless you are going for statistics\n",
    "N=300\n",
    "system= eq_sys\n",
    "#system.potential.scale = 1\n"
   ]
  },
  {
   "cell_type": "code",
   "execution_count": null,
   "metadata": {},
   "outputs": [],
   "source": [
    "#initialize the state in a rough EQ distribution, not super accurate.\n",
    "initial_state = eq_sys.eq_state(N, t=0, beta=1/(kT_prime), M= m_prime, manual_domain=[[-4,-3],[4,1]], axes=[1,2])"
   ]
  },
  {
   "cell_type": "markdown",
   "metadata": {},
   "source": [
    "### Next few cells are visualization checks that your system is set up how you want"
   ]
  },
  {
   "cell_type": "code",
   "execution_count": null,
   "metadata": {},
   "outputs": [],
   "source": [
    "#this cell is for checking that the initial state is what you want\n",
    "nbins= 20\n",
    "x_hist = np.histogram(initial_state[:,0,0], bins=nbins)\n",
    "y_hist = np.histogram(initial_state[:,1,0], bins=nbins)\n",
    "vx_hist = np.histogram(initial_state[:,0,1], bins=nbins)\n",
    "vy_hist = np.histogram(initial_state[:,1,1], bins=nbins)\n",
    "#change the type of histogram to look at different coordinates\n",
    "analysis.hists_1D.plot_hist(x_hist);"
   ]
  },
  {
   "cell_type": "code",
   "execution_count": null,
   "metadata": {},
   "outputs": [],
   "source": [
    "#gives a snapshot of the potential at some time in some domain\n",
    "system.show_potential(0, manual_domain=[[-4,-4],[4,-1]], surface=False)"
   ]
  },
  {
   "cell_type": "code",
   "execution_count": null,
   "metadata": {},
   "outputs": [],
   "source": [
    "%%capture\n",
    "\n",
    "#next two cells make an animation of the potential and how it changes over the protocol\n",
    "sysanim=system.animate_protocol(surface=False, manual_domain=[[-4,-7],[4,0]], n_contours=20)\n",
    "HTML(sysanim.to_jshtml(fps=8))\n"
   ]
  },
  {
   "cell_type": "code",
   "execution_count": null,
   "metadata": {},
   "outputs": [],
   "source": [
    "sysanim"
   ]
  },
  {
   "cell_type": "markdown",
   "metadata": {},
   "source": [
    "### Now we set up the simulation parameters"
   ]
  },
  {
   "cell_type": "code",
   "execution_count": null,
   "metadata": {},
   "outputs": [],
   "source": [
    "# this sets up our simulation to do langevin dynamics.\n",
    "# if you want to change the temperature or damping by some amount, you can change the scale factors in this cell\n",
    "# probably dont want to change anythign else in here though\n",
    "\n",
    "#important to note that chaning the temperature here will not change the temperature used to generate the EQ distribution,\n",
    "# this is in case you want to test equilibration at a different temperature than computation.\n",
    "\n",
    "\n",
    "#note: time is scaled in units of sqrt(LC)\n",
    "gamma = (lambda_prime/m_prime) * np.sqrt(L*C) / (R*C) \n",
    "theta = 1/m_prime\n",
    "eta = (L/(R**2 * C))**(1/4) * np.sqrt(kT_prime*lambda_prime) / m_prime        \n",
    " \n",
    "\n",
    "damping_scale = 1\n",
    "temp_scale = 1\n",
    "\n",
    "gamma = np.multiply(gamma, damping_scale)\n",
    "eta = np.multiply(eta, np.sqrt(damping_scale*temp_scale))\n",
    "\n",
    "dynamic = langevin_underdamped.LangevinUnderdamped(theta, gamma, eta, system.get_external_force)\n",
    "\n",
    "integrator = rkdeterm_eulerstoch.RKDetermEulerStoch(dynamic)"
   ]
  },
  {
   "cell_type": "code",
   "execution_count": null,
   "metadata": {},
   "outputs": [],
   "source": []
  },
  {
   "cell_type": "code",
   "execution_count": null,
   "metadata": {},
   "outputs": [],
   "source": [
    "#dont change this cell unless you take a look at how the procedures work, this should be fine for most use cases\n",
    "\n",
    "procedures = [\n",
    "              sp.ReturnFinalState(),\n",
    "              sp.MeasureAllState(trial_request=slice(0, 1000)),  \n",
    "              rp.MeasureAllValue(rp.get_dW, 'all_W'),\n",
    "              rp.MeasureFinalValue(rp.get_dW, 'final_W'),\n",
    "             ]"
   ]
  },
  {
   "cell_type": "code",
   "execution_count": null,
   "metadata": {},
   "outputs": [],
   "source": []
  },
  {
   "cell_type": "code",
   "execution_count": null,
   "metadata": {},
   "outputs": [],
   "source": [
    "# here is where you choose the number of steps to simulate and how long to run the sim for.\n",
    "# note that if your time is longer than the protocol time, the potential will just sit at its final value.\n",
    "\n",
    "nsteps = 10_000\n",
    "\n",
    "total_time = 10*(system.protocol.t_f-system.protocol.t_i)\n",
    "\n",
    "dt = total_time / nsteps\n",
    "\n",
    "sim = simulation.Simulation(integrator.update_state, procedures, nsteps, dt,\n",
    "                            initial_state)\n",
    "\n",
    "sim.system = system"
   ]
  },
  {
   "cell_type": "markdown",
   "metadata": {},
   "source": [
    "### This is running the actual sim"
   ]
  },
  {
   "cell_type": "code",
   "execution_count": null,
   "metadata": {},
   "outputs": [],
   "source": [
    "%%time\n",
    "\n",
    "sim.output = sim.run(verbose=True)"
   ]
  },
  {
   "cell_type": "code",
   "execution_count": null,
   "metadata": {},
   "outputs": [],
   "source": [
    "# this is assinging variables to the different sim outputs\n",
    "all_state = sim.output.all_state['states']\n",
    "all_W = sim.output.all_W\n",
    "final_W = sim.output.final_W\n",
    "final_state = sim.output.final_state\n"
   ]
  },
  {
   "cell_type": "markdown",
   "metadata": {},
   "source": [
    "### After running the sim, there are plenty of analysis tools"
   ]
  },
  {
   "cell_type": "code",
   "execution_count": null,
   "metadata": {},
   "outputs": [],
   "source": [
    "#plotting the trajectories along a particular axis\n",
    "\n",
    "end_plot_time = total_time #* 1 / 100\n",
    "trial_indices = np.s_[:300]\n",
    "\n",
    "\n",
    "analysis.running_quantities.plot_running_quantity(all_state[trial_indices,:,0,0],\n",
    "                                                  final_time=total_time,\n",
    "                                                  end_plot_time=end_plot_time, title='x v t')\n",
    "\n",
    "analysis.running_quantities.plot_running_quantity(all_state[trial_indices,:,1,0],\n",
    "                                                  final_time=total_time,\n",
    "                                                  end_plot_time=end_plot_time, title='y v t')\n",
    "\n"
   ]
  },
  {
   "cell_type": "code",
   "execution_count": null,
   "metadata": {},
   "outputs": [],
   "source": [
    "#plotting potential energy\n",
    "\n",
    "times = np.linspace(0, total_time, nsteps)\n",
    "\n",
    "potentials = [system.get_potential(all_state[:,i,...], item) for i,item in enumerate(times)]\n",
    "\n",
    "fig, ax = plt.subplots(figsize=(15,5))\n",
    "\n",
    "ax.plot(times, potentials);\n"
   ]
  },
  {
   "cell_type": "code",
   "execution_count": null,
   "metadata": {},
   "outputs": [],
   "source": [
    "#you can check the total energy here, good way to check that you are close enough to the EQ distribution\n",
    "total_energy = np.array([system.get_energy(all_state[:,i,...], item, mass=m_prime) for i,item in enumerate(times)])\n",
    "\n",
    "fig, ax = plt.subplots(figsize=(15,5))\n",
    "\n",
    "ax.plot(times, np.mean(total_energy, axis=1));"
   ]
  },
  {
   "cell_type": "code",
   "execution_count": null,
   "metadata": {},
   "outputs": [],
   "source": [
    "%%capture\n",
    "\n",
    "#these cells make am animation of a 2D slice of phase space trajectories. You can plot velocities by changing the zero in all_state[...,0] to a 1\n",
    "ani_exp = kt.animate_sim(all_state[...,0], total_time, color_by_state=True, key_state=None)\n",
    "HTML(ani_exp.to_jshtml(fps=20))"
   ]
  },
  {
   "cell_type": "code",
   "execution_count": null,
   "metadata": {},
   "outputs": [],
   "source": [
    "ani_exp"
   ]
  },
  {
   "cell_type": "code",
   "execution_count": null,
   "metadata": {},
   "outputs": [],
   "source": [
    "analysis.running_quantities.plot_running_quantity(all_W[:1000],\n",
    "                                                  final_time=total_time,\n",
    "                                                  end_plot_time=total_time)"
   ]
  },
  {
   "cell_type": "code",
   "execution_count": null,
   "metadata": {},
   "outputs": [],
   "source": [
    "#this will show you a histogram of the net work, with the mean and +- sigma marked\n",
    "\n",
    "final_W_hist = np.histogram(final_W, bins=50)\n",
    "fig, ax = analysis.hists_1D.plot_hist(final_W_hist, log=True)\n",
    "m=final_W.mean()\n",
    "s=final_W.std()\n",
    "print(m)\n",
    "ax.axvline(m, color='k')\n",
    "ax.axvline(m-s, color='k')\n",
    "ax.axvline(m+s, color='k')"
   ]
  },
  {
   "cell_type": "code",
   "execution_count": null,
   "metadata": {},
   "outputs": [],
   "source": []
  }
 ],
 "metadata": {
  "kernelspec": {
   "display_name": "Python 3",
   "language": "python",
   "name": "python3"
  },
  "language_info": {
   "codemirror_mode": {
    "name": "ipython",
    "version": 3
   },
   "file_extension": ".py",
   "mimetype": "text/x-python",
   "name": "python",
   "nbconvert_exporter": "python",
   "pygments_lexer": "ipython3",
   "version": "3.8.3-final"
  }
 },
 "nbformat": 4,
 "nbformat_minor": 4
}