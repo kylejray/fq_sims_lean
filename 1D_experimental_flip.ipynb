{
 "cells": [
  {
   "cell_type": "code",
   "execution_count": null,
   "metadata": {},
   "outputs": [],
   "source": [
    "import sys\n",
    "import os\n",
    "import numpy as np \n",
    "import matplotlib.pyplot as plt\n",
    "plt.rcParams[\"animation.html\"] = \"jshtml\"\n",
    "from IPython.display import HTML\n",
    "import matplotlib.animation as animation\n",
    "\n",
    "%matplotlib inline\n",
    "src_path = os.path.expanduser('~/source/')\n",
    "sys.path.append(src_path)\n"
   ]
  },
  {
   "cell_type": "code",
   "execution_count": null,
   "metadata": {},
   "outputs": [],
   "source": [
    "#greg tools\n",
    "sys.path.append(src_path+'simtools')\n",
    "sys.path.append(src_path+'simtools/infoenginessims')\n",
    "\n",
    "from integrators import rkdeterm_eulerstoch\n",
    "from dynamics import langevin_underdamped, langevin_overdamped\n",
    "import simulation\n",
    "from simprocedures import basic_simprocedures as sp\n",
    "from simprocedures import running_measurements as rp\n",
    "from simprocedures import trajectory_measurements as tp\n",
    "import analysis\n",
    "import analysis.running_quantities\n",
    "import analysis.hists_1D\n",
    "from infoenginessims.api import *"
   ]
  },
  {
   "cell_type": "code",
   "execution_count": null,
   "metadata": {},
   "outputs": [],
   "source": [
    "#kyle tools\n",
    "import kyle_tools as kt\n",
    "from sus.protocol_designer import Potential, Protocol, System\n",
    "from informational_states.measure import MeasurementDevice, Measurement, TrajectoryEnsemble"
   ]
  },
  {
   "cell_type": "code",
   "execution_count": null,
   "metadata": {},
   "outputs": [],
   "source": []
  },
  {
   "cell_type": "code",
   "execution_count": null,
   "metadata": {},
   "outputs": [],
   "source": []
  },
  {
   "cell_type": "markdown",
   "metadata": {},
   "source": [
    "### These are the physical parameters that characterize the system"
   ]
  },
  {
   "cell_type": "code",
   "execution_count": null,
   "metadata": {},
   "outputs": [],
   "source": [
    "from FQ_sympy_functions import DeviceParams\n",
    "from bit_flip_sweep import set_systems\n"
   ]
  },
  {
   "cell_type": "code",
   "execution_count": null,
   "metadata": {},
   "outputs": [],
   "source": [
    "Dev= DeviceParams()\n",
    "Dev.change_vals({'I_minus':0})\n",
    "triv_store, triv_comp = set_systems(Dev, comp_tau=10, d_store_comp=[.2,.2])\n",
    "Dev.change_vals({'ell':Dev.ell*.885**2})\n",
    "triv_store_2, triv_comp_2 = set_systems(Dev, comp_tau=10, d_store_comp=[.2,.2])"
   ]
  },
  {
   "cell_type": "code",
   "execution_count": null,
   "metadata": {},
   "outputs": [],
   "source": [
    "triv_comp.protocol.params[:,0] "
   ]
  },
  {
   "cell_type": "code",
   "execution_count": null,
   "metadata": {},
   "outputs": [],
   "source": [
    "triv_store.protocol.params[:,0] "
   ]
  },
  {
   "cell_type": "code",
   "execution_count": null,
   "metadata": {},
   "outputs": [],
   "source": [
    "\n",
    "#params 1:\n",
    "kT = .41*1.38E-23\n",
    "C = 10*400E-12\n",
    "R = 371\n",
    "L = 10E-10\n",
    "\n",
    "'''\n",
    "#params 2:\n",
    "kT = 6.9E-24\n",
    "C = 530E-15\n",
    "R = 2.1\n",
    "L = 140E-12\n",
    "'''\n",
    "\n",
    "#these are some relevant dimensionful scales: alpha are the natural units for the JJ fluxes and U_0 is the natural scale for the potential\n",
    "alpha = 2.07E-15 / (2*np.pi)\n",
    "#IMPORTANT: all energies are measured in units of U_0\n",
    "U_0 = alpha**2 / L\n",
    "h = 6.63E-34\n",
    "\n",
    "#these are important dimensionless simulation quantities, accounting for \n",
    "#m being measured in units of C, lambda in units of 1/R, energy in units of U_0\n",
    "m_prime = np.array((1, 1/4))\n",
    "lambda_prime = np.array((2, 1/2))\n",
    "kT_prime = kT/U_0\n",
    "\n",
    "print('Some Common Circuit Parameters')\n",
    "Q = R*sqrt(C/L)\n",
    "print( 'Q:{:.2f}'.format(Q))\n",
    "frq = 1/(2*np.pi*sqrt(L*C))\n",
    "print('f_LC in GHz:{:.2f}'.format(frq/1E9))\n",
    "print('ring down in ns:{:.2f}'.format(1E9*Q/frq))\n",
    "j_c = alpha/L\n",
    "print('critical current density in mu_A:{:.2f}'.format(1E6*j_c))\n",
    "print('Energy Scale')\n",
    "print('U_0/kT:{:.2f}'.format(1/kT_prime))\n",
    "print('kT/(h*f)',kT_prime*U_0 / (h*frq))\n"
   ]
  },
  {
   "cell_type": "markdown",
   "metadata": {},
   "source": [
    "### First few cells are to set up the \"system\": the potential and the time dependent signal sent to its parameters"
   ]
  },
  {
   "cell_type": "code",
   "execution_count": null,
   "metadata": {},
   "outputs": [],
   "source": [
    "\n",
    "#some sample systems for the bit flip, defined in the fq_systems.py file. You can use that file as a model for making new protocols:\n",
    "\n",
    "from sus.library.fq_systems import fq_pot, flip_on, flip_off, flip_prot \n",
    "\n",
    "#equilibrating\n",
    "eq_sys = System(fq_pot.trivial_protocol(), fq_pot)\n",
    "\n",
    "#starts in EQ, holds the flip potential indefinitely\n",
    "eternal_flip_sys = System(flip_on, fq_pot)\n",
    "\n",
    "#starts in flip potential and then relaxes to EQ\n",
    "diagnostic_flip_sys = System(flip_off, fq_pot)\n",
    "\n",
    "#full flip, start in EQ and then end in EQ again\n",
    "flip_sys = System(flip_prot, fq_pot)\n",
    "alt_flip_sys = flip_sys.copy()\n",
    "test_flip_sys = flip_sys.copy()\n",
    "\n"
   ]
  },
  {
   "cell_type": "code",
   "execution_count": null,
   "metadata": {},
   "outputs": [],
   "source": [
    "eq_sys.protocol.params[:,0]"
   ]
  },
  {
   "cell_type": "code",
   "execution_count": null,
   "metadata": {},
   "outputs": [],
   "source": [
    "fq_pot.default_params"
   ]
  },
  {
   "cell_type": "code",
   "execution_count": null,
   "metadata": {},
   "outputs": [],
   "source": [
    "eternal_flip_sys.protocol.params"
   ]
  },
  {
   "cell_type": "code",
   "execution_count": null,
   "metadata": {},
   "outputs": [],
   "source": [
    "\n",
    "test_flip_sys.protocol.protocols[0].params[1,:]=(-2.4,-2*np.pi)\n",
    "test_flip_sys.protocol.protocols[1].params[1,:]=(-2*np.pi, -2.4)\n",
    "#for asymetric device, add:\n",
    "test_flip_sys.protocol.protocols[0].params[0,:]=(.069, .15)\n",
    "test_flip_sys.protocol.protocols[1].params[0,:]=(.15, .069)\n",
    "\n",
    "test_flip_sys.protocol.times[1,1]=3.72\n",
    "test_flip_sys.protocol.refresh_substage_times()"
   ]
  },
  {
   "cell_type": "code",
   "execution_count": null,
   "metadata": {},
   "outputs": [],
   "source": [
    "\n",
    "flip_sys.protocol.protocols[0].params[1,:]=(-2.4,-2.8)\n",
    "flip_sys.protocol.protocols[1].params[1,:]=(-2.8, -2.4)\n",
    "#for asymetric device, add:\n",
    "flip_sys.protocol.protocols[0].params[0,:]=(.069, .15)\n",
    "flip_sys.protocol.protocols[1].params[0,:]=(.15, .069)\n"
   ]
  },
  {
   "cell_type": "code",
   "execution_count": null,
   "metadata": {},
   "outputs": [],
   "source": [
    "#this is a decent timescale for the current parameters found with a parameter sweep\n",
    "flip_sys.protocol.times[1,1]=5.53\n",
    "#flip_sys.protocol.times[1,1]=6.4\n",
    "flip_sys.protocol.refresh_substage_times()"
   ]
  },
  {
   "cell_type": "code",
   "execution_count": null,
   "metadata": {},
   "outputs": [],
   "source": []
  },
  {
   "cell_type": "code",
   "execution_count": null,
   "metadata": {},
   "outputs": [],
   "source": [
    "# trying a device with different inductances and criticial currents\n",
    "alt_flip_sys.protocol.protocols[0].params[1:4,:] = [[-2.9, -3.2],[27.51,27.51],[19.2,19.2]]\n",
    "alt_flip_sys.protocol.protocols[1].params[1:4,:] = [[-3.2, -2.9],[27.51,27.51],[19.2,19.2]]\n",
    "\n",
    "alt_flip_sys.protocol.protocols[0].params[0,:]=(.03891, .15)\n",
    "alt_flip_sys.protocol.protocols[1].params[0,:]=(.15, .03891)\n",
    "'''\n",
    "alt_flip_sys.protocol.protocols[0].params[0,:]=(.069, .15)\n",
    "alt_flip_sys.protocol.protocols[1].params[0,:]=(.15, .069)\n",
    "'''\n",
    "alt_flip_sys.protocol.times[:,0]=0, 1\n",
    "alt_flip_sys.protocol.times[:,1]=1, 4.55\n",
    "alt_flip_sys.protocol.refresh_substage_times()\n",
    "alt_flip_sys.protocol.times"
   ]
  },
  {
   "cell_type": "code",
   "execution_count": null,
   "metadata": {},
   "outputs": [],
   "source": [
    "flip_sys.protocol.protocols[0].params"
   ]
  },
  {
   "cell_type": "code",
   "execution_count": null,
   "metadata": {},
   "outputs": [],
   "source": [
    "flip_sys.protocol.protocols[1].t_f"
   ]
  },
  {
   "cell_type": "code",
   "execution_count": null,
   "metadata": {},
   "outputs": [],
   "source": [
    "#this cell defines what system you want to simulate and how many trials to run.\n",
    "#generally no need to do lots of trials while prototyping protocols\n",
    "N=10_000\n",
    "system= flip_sys\n",
    "eq_sys = system\n",
    "system.mass= m_prime\n",
    "eq_sys.mass = m_prime\n",
    "\n",
    "system.potential.scale=1\n",
    "\n",
    "#initialize the state in a rough EQ distribution.\n",
    "initial_state = eq_sys.eq_state(N, t=0, beta=1/(kT_prime), manual_domain=[[-4,-4],[4,0]], axes=[1,2])"
   ]
  },
  {
   "cell_type": "markdown",
   "metadata": {},
   "source": [
    "### Next few cells are visualization checks that your system is set up how you want"
   ]
  },
  {
   "cell_type": "code",
   "execution_count": null,
   "metadata": {},
   "outputs": [],
   "source": [
    "#this cell checks for closeness to equilibrium, the true equilibrium dist will yield an identity matrix\n",
    "#though you dont need true EQ for qualitative checks of behavior \n",
    "#and it takes a lot of trials to converge to identity\n",
    "from sympy import Matrix\n",
    "I = np.zeros((4,4))\n",
    "for i in range(4):\n",
    "    I[i,i] = 1\n",
    "\n",
    "X = np.append(initial_state[...,0], system.mass * initial_state[...,1], axis=1)\n",
    "d_H = np.append( -eq_sys.get_external_force(initial_state,0), initial_state[...,1], axis=1)\n",
    "ept_test = np.einsum('in,im->inm',X, d_H)/kT_prime\n",
    "Matrix(np.mean(ept_test, axis=0)-I)"
   ]
  },
  {
   "cell_type": "code",
   "execution_count": null,
   "metadata": {},
   "outputs": [],
   "source": [
    "initial_state[is_bools['0']][...,0,0].std()"
   ]
  },
  {
   "cell_type": "code",
   "execution_count": null,
   "metadata": {},
   "outputs": [],
   "source": [
    "#this cell is for checking that the initial state is what you want\n",
    "nbins= 100\n",
    "phi_hist = np.histogram(initial_state[:,0,0], bins=nbins)\n",
    "phi_dc_hist = np.histogram(initial_state[:,1,0], bins=nbins)\n",
    "v_phi_hist = np.histogram(initial_state[:,0,1], bins=nbins)\n",
    "v_phi_dc_hist = np.histogram(initial_state[:,1,1], bins=nbins)\n",
    "\n",
    "\n",
    "#change the type of histogram to look at different coordinates\n",
    "analysis.hists_1D.plot_hist(phi_hist);"
   ]
  },
  {
   "cell_type": "code",
   "execution_count": null,
   "metadata": {},
   "outputs": [],
   "source": [
    "is_bools.keys()"
   ]
  },
  {
   "cell_type": "code",
   "execution_count": null,
   "metadata": {},
   "outputs": [],
   "source": [
    "is_bools = kt.separate_by_state(initial_state[...,0,0])\n",
    "isz = initial_state[is_bools['0']]\n",
    "iso = initial_state[is_bools['1']]\n",
    "sum(is_bools['1'])/sum(is_bools['0'])\n",
    "is_means = np.array( [item.mean(axis=0) for item in [isz,iso]])"
   ]
  },
  {
   "cell_type": "code",
   "execution_count": null,
   "metadata": {},
   "outputs": [],
   "source": [
    "#initial_state = is_means\n",
    "initial_state= np.append(initial_state,is_means, axis=0)"
   ]
  },
  {
   "cell_type": "code",
   "execution_count": null,
   "metadata": {},
   "outputs": [],
   "source": [
    "for key,val in is_bools.items():\n",
    "    is_bools[key] = np.append(val, [False,False] , axis=0)"
   ]
  },
  {
   "cell_type": "code",
   "execution_count": null,
   "metadata": {},
   "outputs": [],
   "source": [
    "#gives a snapshot of the potential at some time in some domain\n",
    "t_snapshot=0\n",
    "system.show_potential(t_snapshot, manual_domain=[[-4,-4],[4,-1]], surface=False)"
   ]
  },
  {
   "cell_type": "code",
   "execution_count": null,
   "metadata": {},
   "outputs": [],
   "source": [
    "system.show_potential(3, manual_domain=[[-4,-4],[4,-1]], surface=False)"
   ]
  },
  {
   "cell_type": "markdown",
   "metadata": {},
   "source": [
    "### Now we set up the simulation parameters"
   ]
  },
  {
   "cell_type": "code",
   "execution_count": null,
   "metadata": {},
   "outputs": [],
   "source": [
    "# this sets up our simulation to do langevin dynamics.\n",
    "# if you want to change the temperature or damping by some amount, you can change the scale factors in this cell\n",
    "# probably dont want to change anythign else in here though\n",
    "\n",
    "#NOTE: changing the temperature here will not change the temperature used to generate the EQ distribution,\n",
    "#NOTE: time is scaled in units of sqrt(LC)\n",
    "gamma = (lambda_prime/m_prime) * np.sqrt(L*C) / (R*C) \n",
    "theta = 1/m_prime\n",
    "eta = (L/(R**2 * C))**(1/4) * np.sqrt(kT_prime*lambda_prime) / m_prime        \n",
    " \n",
    "\n",
    "damping_scale = 1\n",
    "temp_scale = 1\n",
    "\n",
    "gamma = np.multiply(gamma, damping_scale)\n",
    "eta = np.multiply(eta, np.sqrt(damping_scale*temp_scale))\n",
    "\n",
    "dynamic = langevin_underdamped.LangevinUnderdamped(theta, gamma, eta, system.get_external_force)\n",
    "dynamic.mass = system.mass\n",
    "\n",
    "integrator = rkdeterm_eulerstoch.RKDetermEulerStoch(dynamic)"
   ]
  },
  {
   "cell_type": "code",
   "execution_count": null,
   "metadata": {},
   "outputs": [],
   "source": [
    "procedures = [\n",
    "    sp.MeasureStepValue(rp.get_current_state, trial_request = np.s_[0], output_name='zmeans'),\n",
    "    sp.MeasureStepValue(rp.get_current_state, trial_request = np.s_[1], output_name='omeans')\n",
    "]\n"
   ]
  },
  {
   "cell_type": "code",
   "execution_count": null,
   "metadata": {},
   "outputs": [],
   "source": [
    "#dont change this cell unless you take a look at how the procedures work, this should be fine for most use cases\n",
    "\n",
    "procedures = [\n",
    "              sp.ReturnFinalState(),\n",
    "              sp.MeasureAllState(trial_request=slice(0, 1500), step_request=np.s_[::4]),\n",
    "              sp.MeasureAllState(trial_request=np.s_[-2:], output_name='mean_evolution'),\n",
    "              rp.MeasureAllValue(rp.get_dW, 'all_W'),\n",
    "              rp.MeasureFinalValue(rp.get_dW, 'final_W'),\n",
    "              sp.MeasureMeanValue(rp.get_kinetic, output_name='kinetic' ),\n",
    "              sp.MeasureMeanValue(rp.get_potential, output_name='potential'),\n",
    "              sp.MeasureMeanValue(rp.get_EPT, output_name='equipartition'),\n",
    "              sp.MeasureMeanValue(rp.get_current_state, output_name = 'zero_means', trial_request=is_bools['0']),\n",
    "              sp.MeasureMeanValue(rp.get_current_state, output_name = 'one_means', trial_request=is_bools['1']),\n",
    "              tp.CountJumps(state_slice=np.s_[...,0,0])\n",
    "             ]"
   ]
  },
  {
   "cell_type": "code",
   "execution_count": null,
   "metadata": {},
   "outputs": [],
   "source": [
    "# here is where you choose the number of steps to simulate and how long to run the sim for.\n",
    "# note that if your time is longer than the protocol time, the potential will just sit at its final value.\n",
    "\n",
    "nsteps =1000\n",
    "\n",
    "total_time = (system.protocol.t_f-system.protocol.t_i)+1\n",
    "\n",
    "dt = total_time / nsteps\n",
    "\n",
    "sim = simulation.Simulation(integrator.update_state, procedures, nsteps, dt,\n",
    "                            initial_state)\n",
    "\n",
    "sim.system = system"
   ]
  },
  {
   "cell_type": "markdown",
   "metadata": {},
   "source": [
    "### This is running the actual sim"
   ]
  },
  {
   "cell_type": "code",
   "execution_count": null,
   "metadata": {},
   "outputs": [],
   "source": [
    "%%time\n",
    "sim.output = sim.run(verbose=True)"
   ]
  },
  {
   "cell_type": "code",
   "execution_count": null,
   "metadata": {},
   "outputs": [],
   "source": [
    "# this is assinging variables to the different sim outputs\n",
    "all_state = sim.output.all_state['states']\n",
    "all_W = sim.output.all_W\n",
    "final_W = sim.output.final_W\n",
    "final_state = sim.output.final_state\n",
    "all_EPT = sim.output.equipartition['values']\n",
    "all_KE = sim.output.kinetic['values']\n",
    "all_PE = sim.output.potential['values']\n",
    "times = np.linspace(0, total_time, nsteps+1)\n",
    "z_states = sim.output.zero_means['values']\n",
    "z_err = sim.output.zero_means['std_error']\n",
    "o_states = sim.output.one_means['values']\n",
    "o_err = sim.output.one_means['std_error']\n",
    "mean_evo = sim.output.mean_evolution['states']\n",
    "jumps = sim.output.trajectories\n"
   ]
  },
  {
   "cell_type": "code",
   "execution_count": null,
   "metadata": {},
   "outputs": [],
   "source": [
    "plt.plot(z_states[:,0,0])"
   ]
  },
  {
   "cell_type": "code",
   "execution_count": null,
   "metadata": {},
   "outputs": [],
   "source": [
    "try: zmean_evo1 = sim.output.zmeans['states'].squeeze(axis=0)\n",
    "except: pass\n",
    "try: omean_evo1 = sim.output.omeans['states'].squeeze(axis=0)\n",
    "except: pass"
   ]
  },
  {
   "cell_type": "code",
   "execution_count": null,
   "metadata": {},
   "outputs": [],
   "source": [
    "zmean_evo1.shape"
   ]
  },
  {
   "cell_type": "code",
   "execution_count": null,
   "metadata": {},
   "outputs": [],
   "source": [
    "#plt.plot(z_states[:,0,0,1].transpose());\n",
    "#plt.plot(o_states[:,0,0,1].transpose());\n",
    "#plt.plot(z_states2[:,0,1].transpose());\n",
    "#plt.plot(o_states2[:,0,1].transpose());\n",
    "#plt.plot(zmean_evo[:,0,1].transpose());\n",
    "#plt.plot(omean_evo[:,0,1].transpose());\n",
    "plt.plot(zmean_evo1[:,0,1].transpose());\n",
    "plt.plot(omean_evo1[:,0,1].transpose());\n"
   ]
  },
  {
   "cell_type": "code",
   "execution_count": null,
   "metadata": {},
   "outputs": [],
   "source": [
    "z_states.shape"
   ]
  },
  {
   "cell_type": "markdown",
   "metadata": {},
   "source": [
    "### After running the sim, there are plenty of analysis tools"
   ]
  },
  {
   "cell_type": "code",
   "execution_count": null,
   "metadata": {},
   "outputs": [],
   "source": [
    "#plotting the trajectories along a particular axis\n",
    "\n",
    "end_plot_time = 1*total_time #* 1 / 100\n",
    "trial_indices = np.s_[:1500]\n",
    "\n",
    "\n",
    "analysis.running_quantities.plot_running_quantity(all_state[trial_indices,:,0,0],\n",
    "                                                  final_time=total_time,\n",
    "                                                  end_plot_time=end_plot_time, title='phi v t')\n",
    "plt.grid(True, which='both')\n",
    "analysis.running_quantities.plot_running_quantity(all_state[trial_indices,:,1,0],\n",
    "                                                  final_time=total_time,\n",
    "                                                  end_plot_time=end_plot_time, title='phi_dc v t')\n",
    "\n",
    "plt.grid(True, which='both')"
   ]
  },
  {
   "cell_type": "code",
   "execution_count": null,
   "metadata": {},
   "outputs": [],
   "source": [
    "end_plot_time = 1*total_time #* 1 / 100\n",
    "\n",
    "plt.rcParams['font.size'] = 16\n",
    "legendsize = 6\n",
    "plt.rcParams['mathtext.fontset'] = 'stix'\n",
    "plt.rcParams['font.family'] = 'STIXGeneral'\n",
    "\n",
    "rc_dict = {'axes.labelsize':'large', 'ytick.right':False,'legend.loc':'upper right', 'legend.fontsize':'xx-small', 'figure.autolayout':True, 'figure.figsize': (6,4.5)}\n",
    "for item in rc_dict:\n",
    "    plt.rcParams[item] = rc_dict[item]\n",
    "\n",
    "plt.rc('grid', linestyle=\"-\", color='black')\n",
    "\n",
    "fig, ax = plt.subplots(2, sharex=True)\n",
    "\n",
    "ax[0].grid(True, which='both')\n",
    "analysis.running_quantities.plot_running_quantity(all_state[trial_indices,:,0,0],\n",
    "                                                  final_time=total_time,\n",
    "                                                  end_plot_time=end_plot_time, title='', ax=ax[0], alpha=.3)\n",
    "\n",
    "ax[1].grid(True, which='both')\n",
    "analysis.running_quantities.plot_running_quantity(all_state[trial_indices,:,1,0],\n",
    "                                                  final_time=total_time,\n",
    "                                                  end_plot_time=end_plot_time, title='', ax=ax[1], alpha=.3)\n",
    "\n",
    "ax[0].set_xlabel('')    \n",
    "ax[1].set_xlabel('$t(\\sqrt{LC}$)')\n",
    "ax[0].set_ylabel('$\\\\varphi$')\n",
    "ax[1].set_ylabel('$\\\\varphi_{dc}$')\n",
    "\n",
    "tick_params = {'which':'major', 'labelsize':12, 'size':2, 'direction':'inout', 'width':.6}\n",
    "for item in ax:\n",
    "    item.axvline(system.protocol.t_f,c='k', linestyle='dashed')\n",
    "    item.axvline(1,c='k', linestyle='dashed')\n",
    "    item.tick_params(**tick_params)\n",
    "    \n",
    "\n"
   ]
  },
  {
   "cell_type": "code",
   "execution_count": null,
   "metadata": {},
   "outputs": [],
   "source": [
    "fig.savefig('all_state_alpha.pdf')"
   ]
  },
  {
   "cell_type": "code",
   "execution_count": null,
   "metadata": {},
   "outputs": [],
   "source": [
    "pwd"
   ]
  },
  {
   "cell_type": "code",
   "execution_count": null,
   "metadata": {},
   "outputs": [],
   "source": [
    "from FQ_sympy_functions import fidelity\n",
    "\n",
    "fidelity(jumps)"
   ]
  },
  {
   "cell_type": "code",
   "execution_count": null,
   "metadata": {},
   "outputs": [],
   "source": [
    "x = str(np.s_[::2])"
   ]
  },
  {
   "cell_type": "code",
   "execution_count": null,
   "metadata": {},
   "outputs": [],
   "source": []
  },
  {
   "cell_type": "code",
   "execution_count": null,
   "metadata": {},
   "outputs": [],
   "source": [
    "names = ['+ to -', '- to +']\n",
    "tot_fails = 0\n",
    "for i, key in enumerate(jumps):\n",
    "    succ, tot = sum(jumps[key]==2), sum(jumps[key]!=0)\n",
    "    print(names[i],' fidelity:{:.3f}'.format(succ/tot))\n",
    "    tot_fails += tot-succ\n",
    "print('overall:{:.3f}'.format(1-tot_fails/N))"
   ]
  },
  {
   "cell_type": "code",
   "execution_count": null,
   "metadata": {},
   "outputs": [],
   "source": [
    "plt.plot(z_states[150:,0,1])"
   ]
  },
  {
   "cell_type": "code",
   "execution_count": null,
   "metadata": {},
   "outputs": [],
   "source": [
    "from bit_flip_sweep import get_tau_candidate\n",
    "\n",
    "tau_candidates, t_crit = get_tau_candidate(z_states[150:], o_states[150:], times[150:])"
   ]
  },
  {
   "cell_type": "code",
   "execution_count": null,
   "metadata": {},
   "outputs": [],
   "source": [
    "fig, ax = plt.subplots(2,1,figsize=(20,10))\n",
    "indices=np.s_[150::]\n",
    "for item in [z_states[indices, :, 0, :], o_states[indices,:,0,:]]:\n",
    "    for item in [item[...,0], item[...,1]]:\n",
    "        ax[0].errorbar(times[indices], item[:,0], yerr=sqrt(N)*item[:,1], linestyle=':', alpha=.6)\n",
    "\n",
    "ax[0].plot(times[indices], mean_evo[0,indices,0,0],c='k')\n",
    "ax[0].plot(times[indices], mean_evo[0,indices,0,1],c='k')\n",
    "ax[0].plot(times[indices], mean_evo[1,indices,0,0],c='k')\n",
    "ax[0].plot(times[indices], mean_evo[1,indices,0,1],c='k')\n",
    "\n",
    "for item in [z_states[indices, :, 1, :], o_states[indices,:,1,:]]:\n",
    "    for item in [item[...,0], item[...,1]]:\n",
    "        ax[1].errorbar(times[indices], item[:,0], yerr=sqrt(N)*item[:,1], alpha=.2)\n",
    "\n",
    "        \n",
    "ax[1].plot(times[indices], mean_evo[0,indices,1,0], c='k')\n",
    "ax[1].plot(times[indices], mean_evo[0,indices,1,1],c='k')\n",
    "ax[1].plot(times[indices], mean_evo[1,indices,1,0],c='k')\n",
    "ax[1].plot(times[indices], mean_evo[1,indices,1,1],c='k')\n",
    "\n",
    "for item in ax:\n",
    "    item.grid(True, which='both')\n",
    "    item.axvline(system.protocol.t_f, color='k')\n",
    "    item.axvline(tau_candidates[0], color='k')\n",
    "    item.axvline(tau_candidates[1], color='k')\n",
    "    item.axvline(t_crit, color='k')\n",
    "\n",
    " \n"
   ]
  },
  {
   "cell_type": "code",
   "execution_count": null,
   "metadata": {},
   "outputs": [],
   "source": [
    "#z_displacement = (z_states[...,0,:,0] - z_states[0,0,0,0])\n",
    "#o_displacement = (o_states[...,0,:,0] - o_states[0,0,0,0])\n",
    "\n",
    "displacement = final_state[...,0]-initial_state[0,...,0]\n",
    "scaled_var = np.var(displacement, axis=0)/(np.mean(displacement, axis=0)**2)\n",
    "sigma = np.mean(final_W, axis=0)/kT_prime\n",
    "print(2/(np.exp(sigma)-1), 2/sigma, scaled_var)\n"
   ]
  },
  {
   "cell_type": "code",
   "execution_count": null,
   "metadata": {},
   "outputs": [],
   "source": [
    "#plot potential energy\n",
    "\n",
    "times = np.linspace(0, total_time, nsteps+1)\n",
    "\n",
    "fig, ax = plt.subplots(figsize=(15,5));\n",
    "ax.plot(times, all_PE[:,0]-all_PE[0,0]);\n",
    "\n",
    "#ax.axvline(3.72, color='r')\n",
    "plt.rc('grid', linestyle=\"-\", color='black')\n",
    "\n",
    "\n",
    "ax.errorbar(times, all_KE[:,0]-all_KE[0,0], yerr=3*all_KE[:,1]);\n",
    "ax.plot(times, all_KE[:,0])\n",
    "ax.legend(['potential','kinetic'])\n",
    "ax.set_title(' Potential Energy (U_0) vs time');\n",
    "plt.grid(True, which='both')\n",
    "ax.axvline(tau_candidates[0], color='k')\n",
    "ax.axvline(tau_candidates[1], color='k')\n",
    "ax.axvline(t_crit, color='k')\n",
    "#ax.axvline(system.protocol.t_f, color='r')"
   ]
  },
  {
   "cell_type": "code",
   "execution_count": null,
   "metadata": {},
   "outputs": [],
   "source": [
    "fig, ax = plt.subplots()\n",
    "ax.plot(times[1200:], all_KE[1200:,0]+all_PE[1200:,0]-(all_KE[0,0]+all_PE[0,0]))\n",
    "ax.axvline(tau_candidates[0], color='k')\n",
    "ax.axvline(tau_candidates[1], color='k')\n",
    "ax.axvline(t_crit, color='k')"
   ]
  },
  {
   "cell_type": "code",
   "execution_count": null,
   "metadata": {},
   "outputs": [],
   "source": [
    "EPT[0,0].shape"
   ]
  },
  {
   "cell_type": "code",
   "execution_count": null,
   "metadata": {},
   "outputs": [],
   "source": [
    "'''\n",
    "#plot equipartition check, this is mostly for checking if the distribution is equilibrium\n",
    "EPT = all_EPT/kT_prime\n",
    "EPT[:,0], EPT[:,1]\n",
    "trials = np.s_[:200]\n",
    "\n",
    "fig, ax = plt.subplots(figsize=(15,5));\n",
    "ax.errorbar(times[trials], EPT[trials,0,0], yerr=3*EPT[trials,1,0]);\n",
    "ax.errorbar(times[trials], EPT[trials,0,1], yerr=3*EPT[trials,1,1]);\n",
    "ax.set_title(' \\'Equipartition Energy\\' (k_B T) vs time');\n",
    "ax.legend(['phi', 'phi_dc'])\n",
    "'''"
   ]
  },
  {
   "cell_type": "code",
   "execution_count": null,
   "metadata": {},
   "outputs": [],
   "source": [
    "%%capture\n",
    "\n",
    "#these cells make am animation of a 2D slice of phase space trajectories. You can plot velocities by changing the zero in all_state[...,0] to a 1\n",
    "ani_exp = kt.animate_sim(all_state[...,0], total_time, frame_skip=5, color_by_state=True, key_state=None, axes_names=['phi','phi_dc'])\n",
    "HTML(ani_exp.to_jshtml(fps=20))"
   ]
  },
  {
   "cell_type": "code",
   "execution_count": null,
   "metadata": {},
   "outputs": [],
   "source": [
    "ani_exp"
   ]
  },
  {
   "cell_type": "code",
   "execution_count": null,
   "metadata": {},
   "outputs": [],
   "source": [
    "%%capture\n",
    "\n",
    "#these cells make am animation of a 2D slice of phase space trajectories. You can plot velocities by changing the zero in all_state[...,0] to a 1\n",
    "phase_ani = kt.animate_sim(all_state[...,0,:], total_time, color_by_state=True, frame_skip=5, key_state=all_state[:,0,0,0], axes_names=['phi','v_phi'])\n",
    "HTML(ani_exp.to_jshtml(fps=20))"
   ]
  },
  {
   "cell_type": "code",
   "execution_count": null,
   "metadata": {},
   "outputs": [],
   "source": [
    "phase_ani"
   ]
  },
  {
   "cell_type": "code",
   "execution_count": null,
   "metadata": {},
   "outputs": [],
   "source": [
    "analysis.running_quantities.plot_running_quantity(all_W[:1000],\n",
    "                                                  final_time=total_time,\n",
    "                                                  end_plot_time=total_time)"
   ]
  },
  {
   "cell_type": "code",
   "execution_count": null,
   "metadata": {},
   "outputs": [],
   "source": [
    "#this will show you a histogram of the net work, with the mean and +- sigma marked\n",
    "#note the energy scale is in k_B T\n",
    "\n",
    "final_W_hist = np.histogram(final_W/kT_prime, bins=50)\n",
    "fig, ax = analysis.hists_1D.plot_hist(final_W_hist, log=True)\n",
    "m=(final_W/kT_prime).mean()\n",
    "s=(final_W/kT_prime).std()\n",
    "print(m)\n",
    "ax.axvline(m, color='k')\n",
    "ax.axvline(m-3*s, color='k')\n",
    "ax.axvline(m+3*s, color='k')"
   ]
  },
  {
   "cell_type": "code",
   "execution_count": null,
   "metadata": {},
   "outputs": [],
   "source": []
  }
 ],
 "metadata": {
  "interpreter": {
   "hash": "c48eea1d6fe0303de93a25029b75a26fa311fe2cfce1f013702fed1a8d75264d"
  },
  "kernelspec": {
   "display_name": "Python 3.7.10 64-bit ('base': conda)",
   "name": "python3"
  },
  "language_info": {
   "codemirror_mode": {
    "name": "ipython",
    "version": 3
   },
   "file_extension": ".py",
   "mimetype": "text/x-python",
   "name": "python",
   "nbconvert_exporter": "python",
   "pygments_lexer": "ipython3",
   "version": "3.7.10"
  }
 },
 "nbformat": 4,
 "nbformat_minor": 4
}
