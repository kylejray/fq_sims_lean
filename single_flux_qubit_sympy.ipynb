{
 "cells": [
  {
   "cell_type": "code",
   "execution_count": 1,
   "metadata": {},
   "outputs": [],
   "source": [
    "from sympy import *\n",
    "from sympy import latex\n",
    "from sympy.plotting import plot3d\n",
    "from sympy.plotting.plot import plot_contour\n",
    "from scipy.integrate import quad, nquad, dblquad\n",
    "from sympy import init_session\n",
    "%matplotlib inline\n",
    "init_printing(use_unicode=True)\n",
    "import numpy as np"
   ]
  },
  {
   "cell_type": "code",
   "execution_count": 5,
   "metadata": {},
   "outputs": [],
   "source": [
    "px, pxdc, ell, beta, dbeta, L = symbols('\\phi_x \\phi_{xdc} \\ell \\beta \\delta\\beta L ')\n",
    "p, pdc = var('\\phi \\phi_{dc}', real=True)\n",
    "\n",
    "\n",
    "quadratic_p =  .5 * (p-px)**2\n",
    "quadratic_pdc = .5* L/(2*ell)  * (pdc-pxdc)**2\n",
    "beta_term = -beta*L *cos(.5*pdc)*cos(p)\n",
    "dbeta_term = dbeta*L* sin(.5*pdc) * sin(p)\n",
    "\n",
    "\n",
    "U =quadratic_p + quadratic_pdc + beta_term + dbeta_term\n",
    "\n",
    "params1 = [[px,-.11],[pxdc,-2.5],[ell,1/24], [beta,6.2], [dbeta,.2], [L,1]]\n",
    "U_sub = U.subs(params1)"
   ]
  },
  {
   "cell_type": "code",
   "execution_count": 6,
   "metadata": {},
   "outputs": [
    {
     "data": {
      "image/png": "[encoded data removed]",
      "text/latex": [
       "$\\displaystyle 0.5 \\left(\\phi + 0.11\\right)^{2} + 37.5 \\left(0.4 \\phi_{dc} + 1\\right)^{2} + 0.2 \\sin{\\left(\\phi \\right)} \\sin{\\left(0.5 \\phi_{dc} \\right)} - 6.2 \\cos{\\left(\\phi \\right)} \\cos{\\left(0.5 \\phi_{dc} \\right)}$"
      ],
      "text/plain": [
       "                 2                           2                                \n",
       "0.5⋅(\\phi + 0.11)  + 37.5⋅(0.4⋅\\phi_{dc} + 1)  + 0.2⋅sin(\\phi)⋅sin(0.5⋅\\phi_{d\n",
       "\n",
       "                                      \n",
       "c}) - 6.2⋅cos(\\phi)⋅cos(0.5⋅\\phi_{dc})"
      ]
     },
     "execution_count": 6,
     "metadata": {},
     "output_type": "execute_result"
    }
   ],
   "source": [
    "U_sub"
   ]
  },
  {
   "cell_type": "markdown",
   "metadata": {},
   "source": [
    "## Execute the two cells above and then the one below for an interactive plot"
   ]
  },
  {
   "cell_type": "code",
   "execution_count": 10,
   "metadata": {},
   "outputs": [
    {
     "data": {
      "application/vnd.jupyter.widget-view+json": {
       "model_id": "69c84ca0db70408c8ade1788a5bad8e1",
       "version_major": 2,
       "version_minor": 0
      },
      "text/plain": [
       "interactive(children=(FloatSlider(value=-0.06, description='pxv', max=6.5, min=-6.5, step=0.01), FloatSlider(v…"
      ]
     },
     "metadata": {},
     "output_type": "display_data"
    }
   ],
   "source": [
    "%matplotlib inline\n",
    "import matplotlib.pyplot as plt\n",
    "import numpy as np\n",
    "from ipywidgets import interactive\n",
    "from mpl_toolkits.mplot3d import Axes3D\n",
    "\n",
    "# use the function keyword arguments below to set default values\n",
    "def f(pxv=-.06, pxdcv=-2.3, ev=1/24, bv=6.2, dbv=.2, Lv=1, contour=True):\n",
    "    params = [[px,pxv],[pxdc,pxdcv],[ell,ev], [beta,bv], [dbeta,dbv], [L,Lv]]\n",
    "    \n",
    "    U_sub = U.subs(params).simplify()\n",
    "    \n",
    "    #SET THE PLOT WINDOW HERE ###\n",
    "    pmin, pmax, dcmin, dcmax = -6.3, 0, -3, -2.0\n",
    "    resolution = 100\n",
    "    #SET THE PLOT WINDOW HERE ###\n",
    "    \n",
    "    X,Y = np.meshgrid( np.linspace(pmin, pmax, resolution), np.linspace(dcmin, dcmax, resolution))\n",
    "    ft = lambdify((p,pdc), U_sub, 'numpy')\n",
    "    U_num = ft(X,Y)\n",
    "    \n",
    "    fig = plt.figure(figsize=(10,10))\n",
    "    ax2 = fig.add_subplot(222, projection=\"3d\")\n",
    "    ax2.plot_wireframe(X,Y,U_num)\n",
    "    ax3 = fig.add_subplot(221)\n",
    "    ax3.contourf(X,Y,U_num)\n",
    "    \n",
    "    print('left min:',np.min(U_num[:,:int(resolution/2)]),'right_min:',np.min(U_num[:,int(resolution/2):]))\n",
    "\n",
    "#SET PARAMETER RANGES HERE ### \n",
    "xrng = (-6.5, 6.5, .01)\n",
    "erng = (0.01,.5,.01)\n",
    "brng = (0,10,.01)\n",
    "Lrng = (.001,4)\n",
    "#SET PARAMETER RANGES HERE ### \n",
    "\n",
    "\n",
    "interactive_plot = interactive(f, pxv=xrng, pxdcv=xrng, ev=erng, bv=brng, dbv=brng, Lv=Lrng)\n",
    "#output = interactive_plot.children[-1]\n",
    "#output.layout.height = '900px'\n",
    "interactive_plot"
   ]
  },
  {
   "cell_type": "code",
   "execution_count": null,
   "metadata": {},
   "outputs": [],
   "source": []
  }
 ],
 "metadata": {
  "kernelspec": {
   "display_name": "Python 3",
   "language": "python",
   "name": "python3"
  },
  "language_info": {
   "codemirror_mode": {
    "name": "ipython",
    "version": 3
   },
   "file_extension": ".py",
   "mimetype": "text/x-python",
   "name": "python",
   "nbconvert_exporter": "python",
   "pygments_lexer": "ipython3",
   "version": "3.7.9"
  }
 },
 "nbformat": 4,
 "nbformat_minor": 4
}
