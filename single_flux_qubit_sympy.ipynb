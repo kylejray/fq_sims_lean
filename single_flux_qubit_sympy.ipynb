{
 "cells": [
  {
   "cell_type": "code",
   "execution_count": null,
   "metadata": {},
   "outputs": [],
   "source": [
    "from sympy import *\n",
    "from sympy import latex\n",
    "from sympy.plotting import plot3d\n",
    "from sympy.plotting.plot import plot_contour\n",
    "from scipy.integrate import quad, nquad, dblquad\n",
    "from sympy import init_session\n",
    "%matplotlib inline\n",
    "init_printing(use_unicode=True)"
   ]
  },
  {
   "cell_type": "code",
   "execution_count": null,
   "metadata": {},
   "outputs": [],
   "source": [
    "px, pxdc, ell, beta, dbeta, L = symbols('\\phi_x \\phi_{xdc} \\ell \\beta \\delta\\beta L ')\n",
    "p, pdc = var('\\phi \\phi_{dc}', real=True)\n",
    "\n",
    "\n",
    "quadratic_p =  .5 * (p-px)**2\n",
    "quadratic_pdc = .5* L/(2*ell)  * (pdc-pxdc)**2\n",
    "beta_term = beta*L *cos(.5*pdc)*cos(p)\n",
    "dbeta_term = dbeta*L* sin(.5*pdc) * sin(p)\n",
    "\n",
    "\n",
    "U =quadratic_p + quadratic_pdc + beta_term + dbeta_term\n",
    "\n",
    "params1 = [[px,-.11],[pxdc,-2.5],[ell,1/24], [beta,6.2], [dbeta,.2], [L,1]]\n",
    "U_sub = U.subs(params1)"
   ]
  },
  {
   "cell_type": "code",
   "execution_count": null,
   "metadata": {},
   "outputs": [],
   "source": [
    "U_sub"
   ]
  },
  {
   "cell_type": "markdown",
   "metadata": {},
   "source": [
    "## Execute the two cells above and then the one below for an interactive plot"
   ]
  },
  {
   "cell_type": "code",
   "execution_count": null,
   "metadata": {},
   "outputs": [],
   "source": [
    "%matplotlib inline\n",
    "import matplotlib.pyplot as plt\n",
    "from ipywidgets import interactive\n",
    "\n",
    "\n",
    "def f(pxv=0, pxdcv=0, ev=1/24, bv=6.2, dbv=.1, Lv=1, contour=True):\n",
    "    params = [[px,pxv],[pxdc,pxdcv],[ell,ev], [beta,bv], [dbeta,dbv], [L,Lv]]\n",
    "    U_sub = U.subs(params).simplify()\n",
    "    fig = plt.figure(2)\n",
    "    \n",
    "    #SET THE PLOT WINDOW HERE ###\n",
    "    pmin, pmax, dcmin, dcmax = -4, 4, -7, 0\n",
    "    #SET THE PLOT WINDOW HERE ###\n",
    "    \n",
    "    \n",
    "    plot_contour(U.subs(params), (p,pmin,pmax), (pdc,dcmin,dcmax))\n",
    "    plot3d(U.subs(params), (p,pmin,pmax), (pdc,dcmin,dcmax))\n",
    "    plt.show()\n",
    "\n",
    "#SET PARAMETER RANGES HERE ### \n",
    "xrng = (-8, 8, .01)\n",
    "erng = (0.01,.5,.01)\n",
    "brng = (0,10,.01)\n",
    "Lrng = (.001,4)\n",
    "#SET PARAMETER RANGES HERE ### \n",
    "\n",
    "\n",
    "interactive_plot = interactive(f, pxv=xrng, pxdcv=xrng, ev=erng, bv=brng, dbv=brng, Lv=Lrng)\n",
    "#output = interactive_plot.children[-1]\n",
    "#output.layout.height = '900px'\n",
    "interactive_plot"
   ]
  },
  {
   "cell_type": "code",
   "execution_count": null,
   "metadata": {},
   "outputs": [],
   "source": [
    "params1 = [[ell,1/26], [beta,10], [dbeta,.13], [L,.8]]\n",
    "U_sub = U.subs(params1)"
   ]
  }
 ],
 "metadata": {
  "kernelspec": {
   "display_name": "Python 3",
   "language": "python",
   "name": "python3"
  },
  "language_info": {
   "codemirror_mode": {
    "name": "ipython",
    "version": 3
   },
   "file_extension": ".py",
   "mimetype": "text/x-python",
   "name": "python",
   "nbconvert_exporter": "python",
   "pygments_lexer": "ipython3",
   "version": "3.7.9"
  }
 },
 "nbformat": 4,
 "nbformat_minor": 4
}
