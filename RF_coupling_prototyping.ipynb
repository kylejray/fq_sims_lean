{
 "cells": [
  {
   "cell_type": "code",
   "execution_count": null,
   "metadata": {},
   "outputs": [],
   "source": [
    "import sys\n",
    "import os\n",
    "\n",
    "source_path = os.path.expanduser('source/')\n",
    "sys.path.append(source_path)"
   ]
  },
  {
   "cell_type": "code",
   "execution_count": null,
   "metadata": {},
   "outputs": [],
   "source": [
    "import numpy as np \n",
    "import matplotlib.pyplot as plt\n",
    "plt.rcParams[\"animation.html\"] = \"jshtml\"\n",
    "from IPython.display import HTML\n",
    "import matplotlib.animation as animation\n",
    "\n",
    "%matplotlib inline"
   ]
  },
  {
   "cell_type": "code",
   "execution_count": null,
   "metadata": {},
   "outputs": [],
   "source": [
    "#gregs tools\n",
    "from infoenginessims.api import *\n",
    "from infoenginessims.integrators import rkdeterm_eulerstoch\n",
    "from infoenginessims.dynamics import langevin_underdamped, langevin_overdamped\n",
    "from infoenginessims import simulation\n",
    "from infoenginessims.simprocedures import basic_simprocedures as sp\n",
    "from infoenginessims.simprocedures import running_measurements as rp\n",
    "from infoenginessims import analysis\n",
    "import infoenginessims.analysis.running_quantities\n",
    "import infoenginessims.analysis.hists_1D"
   ]
  },
  {
   "cell_type": "code",
   "execution_count": null,
   "metadata": {},
   "outputs": [],
   "source": [
    "#kyle tools\n",
    "import kyle_tools as kt\n",
    "from protocol_designer import potentials, protocol, system\n",
    "from measure import MeasurementDevice, Measurement, TrajectoryEnsemble"
   ]
  },
  {
   "cell_type": "markdown",
   "metadata": {},
   "source": [
    "### Totally Explotatory Protocols, no useful protocols implemented yet. Protocol and simulation parameters are not motivated by a particular computational goal\n",
    "#### comments sparse in this notebook pending further investigation, but it follows the same process as the 1D bit flip notebook"
   ]
  },
  {
   "cell_type": "code",
   "execution_count": null,
   "metadata": {},
   "outputs": [],
   "source": [
    "#here we pull in the potential for the 4d system of two coupled\n",
    "from fq_systems import RF_RF_pot\n",
    "\n",
    "eq_sys = system.System(RF_RF_pot.trivial_protocol(), RF_RF_pot)\n"
   ]
  },
  {
   "cell_type": "markdown",
   "metadata": {},
   "source": [
    "### These are the physical parameters that characterize the system"
   ]
  },
  {
   "cell_type": "code",
   "execution_count": null,
   "metadata": {},
   "outputs": [],
   "source": [
    "#ballpark params:\n",
    "kT = .41*1.38E-23\n",
    "C = 10*400E-12\n",
    "R = 371\n",
    "L = 10E-10\n",
    "\n",
    "#these are some relevant dimensionful scales: alpha are the natural units for the JJ fluxes and U_0 is the natural scale for the potential\n",
    "alpha = 2.07E-15 / (2*np.pi)\n",
    "#IMPORTANT: all energies are measured in units of U_0\n",
    "U_0 = alpha**2 / L\n",
    "\n",
    "#these are important dimensionless simulation quantities, accounting for \n",
    "#m being measured in units of C, lambda in units of 1/R, energy in units of U_0\n",
    "m_prime = np.array((1, 1, 1/2, 1/2))\n",
    "lambda_prime = np.array((2, 2, 1, 1))\n",
    "kT_prime = kT/U_0\n",
    "\n",
    "print('Some Common Circuit Parameters')\n",
    "Q = R*sqrt(C/L)\n",
    "print( 'Q:{:.2f}'.format(Q))\n",
    "omeg = 1/(2*np.pi*sqrt(L*C))\n",
    "print('w_LC in GHz:{:.2f}'.format(omeg/1E9))\n",
    "print('ring down in ns:{:.2f}'.format(1E9*Q/omeg))\n",
    "j_c = alpha/L\n",
    "print('critical current density in mu_A:{:.2f}'.format(1E6*j_c))"
   ]
  },
  {
   "cell_type": "markdown",
   "metadata": {},
   "source": [
    "### Below is a bit of a plyaground for messing with protocols"
   ]
  },
  {
   "cell_type": "code",
   "execution_count": null,
   "metadata": {},
   "outputs": [],
   "source": [
    "params = np.zeros((3,RF_RF_pot.N_params))\n",
    "params[:] = RF_RF_pot.default_params\n",
    "params = params.transpose()\n",
    "params[4,1] = 0\n",
    "params[0,1] = 4\n",
    "params[1,1] = 4\n",
    "#params[[6,7],:] = 5,5,5\n",
    "#params[[6,7],1] =1,1\n",
    "#params[8,:] = .05\n",
    "#params[1,1] = 2.64\n",
    "t1=[0,1]\n",
    "t2=[2,3]\n",
    "p1 = protocol.Protocol(t1, params[:,[0,1]])\n",
    "p1.interpolation = 'step'\n",
    "p2 = protocol.Protocol(t2, params[:,[1,2]])\n",
    "p2.interpolation = 'step'\n",
    "\n",
    "test_prot = protocol.Compound_Protocol([p1,p2])\n",
    "\n",
    "test_sys = system.System(test_prot, RF_RF_pot)"
   ]
  },
  {
   "cell_type": "markdown",
   "metadata": {},
   "source": [
    "### Now we start the actual simulation steps"
   ]
  },
  {
   "cell_type": "code",
   "execution_count": null,
   "metadata": {},
   "outputs": [],
   "source": [
    "\n",
    "system=eq_sys\n",
    "#system.protocol.normalize()\n",
    "#system.protocol.time_stretch(1)\n"
   ]
  },
  {
   "cell_type": "code",
   "execution_count": null,
   "metadata": {},
   "outputs": [],
   "source": [
    "N=1000\n",
    "initial_state = system.eq_state(N, M=m_prime)\n"
   ]
  },
  {
   "cell_type": "code",
   "execution_count": null,
   "metadata": {},
   "outputs": [],
   "source": [
    "nbins= 40\n",
    "phi_hist = np.histogram(initial_state[:,0,0], bins=nbins)\n",
    "\n",
    "analysis.hists_1D.plot_hist(phi_hist);"
   ]
  },
  {
   "cell_type": "code",
   "execution_count": null,
   "metadata": {},
   "outputs": [],
   "source": [
    "\n",
    "fig, ax = system.show_potential(0, manual_domain=[[-2,-2,0,0],[8,8,0,0]])\n",
    "fig, ax = system.show_potential(1, manual_domain=[[-2,-2,0,0],[8,8,0,0]])\n",
    "fig.set_figwidth(10)\n",
    "fig.set_figheight(10)\n"
   ]
  },
  {
   "cell_type": "code",
   "execution_count": null,
   "metadata": {},
   "outputs": [],
   "source": []
  },
  {
   "cell_type": "code",
   "execution_count": null,
   "metadata": {},
   "outputs": [],
   "source": [
    "gamma = (lambda_prime/m_prime) * np.sqrt(L*C) / (R*C) \n",
    "theta = 1/m_prime\n",
    "eta = (L/(R**2 * C))**(1/4) * np.sqrt(kT_prime*lambda_prime) / m_prime\n",
    "\n",
    "    \n",
    "\n",
    "thermal = 1\n",
    "temp = 1\n",
    "\n",
    "gamma = gamma * thermal\n",
    "eta = gamma * sqrt(thermal)*sqrt(temp)\n",
    "\n",
    "dynamic = langevin_underdamped.LangevinUnderdamped(theta, gamma, eta,\n",
    "                                                       system.get_external_force)"
   ]
  },
  {
   "cell_type": "code",
   "execution_count": null,
   "metadata": {},
   "outputs": [],
   "source": [
    "for item in [gamma, theta, eta]:\n",
    "    print(item)"
   ]
  },
  {
   "cell_type": "code",
   "execution_count": null,
   "metadata": {},
   "outputs": [],
   "source": [
    "integrator = rkdeterm_eulerstoch.RKDetermEulerStoch(dynamic)"
   ]
  },
  {
   "cell_type": "code",
   "execution_count": null,
   "metadata": {},
   "outputs": [],
   "source": [
    "procedures = [\n",
    "              sp.ReturnFinalState(),\n",
    "              sp.MeasureAllState(trial_request=slice(0, 1000)),  \n",
    "              rp.MeasureAllValue(rp.get_dW, 'all_W'),\n",
    "              rp.MeasureFinalValue(rp.get_dW, 'final_W'),\n",
    "             ]"
   ]
  },
  {
   "cell_type": "code",
   "execution_count": null,
   "metadata": {},
   "outputs": [],
   "source": []
  },
  {
   "cell_type": "code",
   "execution_count": null,
   "metadata": {},
   "outputs": [],
   "source": [
    "nsteps = 30_000\n",
    "\n",
    "total_time = 30*(system.protocol.t_f-system.protocol.t_i)\n",
    "\n",
    "\n",
    "\n",
    "dt = total_time / nsteps\n",
    "sim = simulation.Simulation(integrator.update_state, procedures, nsteps, dt,\n",
    "                            initial_state)\n",
    "\n",
    "sim.system = system"
   ]
  },
  {
   "cell_type": "code",
   "execution_count": null,
   "metadata": {},
   "outputs": [],
   "source": [
    "%%time\n",
    "\n",
    "sim.output = sim.run(verbose=True)"
   ]
  },
  {
   "cell_type": "code",
   "execution_count": null,
   "metadata": {},
   "outputs": [],
   "source": [
    "all_state = sim.output.all_state['states']\n",
    "all_W = sim.output.all_W\n",
    "final_W = sim.output.final_W"
   ]
  },
  {
   "cell_type": "code",
   "execution_count": null,
   "metadata": {},
   "outputs": [],
   "source": []
  },
  {
   "cell_type": "code",
   "execution_count": null,
   "metadata": {},
   "outputs": [],
   "source": [
    "end_plot_time = total_time #* 1 / 100\n",
    "trial_indices = np.s_[:10]\n",
    "\n",
    "\n",
    "analysis.running_quantities.plot_running_quantity(all_state[:1000,:,0,0],\n",
    "                                                  final_time=total_time,\n",
    "                                                  end_plot_time=end_plot_time, title='zeta v t')\n",
    "\n",
    "analysis.running_quantities.plot_running_quantity(all_state[:1000,:,1,0],\n",
    "                                                  final_time=total_time,\n",
    "                                                  end_plot_time=end_plot_time, title='zeta\\' v t')"
   ]
  },
  {
   "cell_type": "code",
   "execution_count": null,
   "metadata": {},
   "outputs": [],
   "source": [
    "#color coding is set to default, \n",
    "%%capture\n",
    "ani_exp = kt.animate_sim(all_state[...,:2,0], total_time, color_by_state=False, key_state=None)\n",
    "HTML(ani_exp.to_jshtml(fps=20))"
   ]
  },
  {
   "cell_type": "code",
   "execution_count": null,
   "metadata": {},
   "outputs": [],
   "source": [
    "ani_exp"
   ]
  },
  {
   "cell_type": "code",
   "execution_count": null,
   "metadata": {},
   "outputs": [],
   "source": [
    "analysis.running_quantities.plot_running_quantity(all_W[:1000],\n",
    "                                                  final_time=total_time,\n",
    "                                                  end_plot_time=total_time)"
   ]
  },
  {
   "cell_type": "code",
   "execution_count": null,
   "metadata": {},
   "outputs": [],
   "source": [
    "kt.animate_hist_1D(all_state, total_time, which_axes=[np.s_[:,:,0,0]], frame_skip=100)"
   ]
  },
  {
   "cell_type": "code",
   "execution_count": null,
   "metadata": {},
   "outputs": [],
   "source": [
    "system.protocol.show_substage_times()"
   ]
  },
  {
   "cell_type": "code",
   "execution_count": null,
   "metadata": {},
   "outputs": [],
   "source": [
    "final_W_hist = np.histogram(final_W, bins=50)\n",
    "fig, ax = analysis.hists_1D.plot_hist(final_W_hist, log=True)\n",
    "m=final_W.mean()\n",
    "s=final_W.std()\n",
    "print(m)\n",
    "ax.axvline(m, color='k')\n",
    "ax.axvline(m-s, color='k')\n",
    "ax.axvline(m+s, color='k')"
   ]
  },
  {
   "cell_type": "code",
   "execution_count": null,
   "metadata": {},
   "outputs": [],
   "source": [
    "#np.savez( 'qualtalk/work_{}'.format(int(total_time)) , aw1=aw1, aw2=aw2, final_W=final_W, )"
   ]
  },
  {
   "cell_type": "code",
   "execution_count": null,
   "metadata": {},
   "outputs": [],
   "source": []
  },
  {
   "cell_type": "code",
   "execution_count": null,
   "metadata": {},
   "outputs": [],
   "source": []
  }
 ],
 "metadata": {
  "kernelspec": {
   "display_name": "Python 3",
   "language": "python",
   "name": "python3"
  },
  "language_info": {
   "codemirror_mode": {
    "name": "ipython",
    "version": 3
   },
   "file_extension": ".py",
   "mimetype": "text/x-python",
   "name": "python",
   "nbconvert_exporter": "python",
   "pygments_lexer": "ipython3",
   "version": "3.7.9"
  }
 },
 "nbformat": 4,
 "nbformat_minor": 4
}
